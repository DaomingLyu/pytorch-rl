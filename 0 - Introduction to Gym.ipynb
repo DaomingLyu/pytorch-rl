{
 "cells": [
  {
   "cell_type": "markdown",
   "metadata": {},
   "source": [
    "## introduction"
   ]
  },
  {
   "cell_type": "code",
   "execution_count": 1,
   "metadata": {},
   "outputs": [
    {
     "name": "stdout",
     "output_type": "stream",
     "text": [
      "0.12.1\n"
     ]
    }
   ],
   "source": [
    "%matplotlib inline\n",
    "\n",
    "import matplotlib.pyplot as plt\n",
    "import numpy as np\n",
    "import gym\n",
    "\n",
    "print(gym.__version__)"
   ]
  },
  {
   "cell_type": "markdown",
   "metadata": {},
   "source": [
    "https://gym.openai.com/envs/"
   ]
  },
  {
   "cell_type": "code",
   "execution_count": 2,
   "metadata": {},
   "outputs": [
    {
     "name": "stdout",
     "output_type": "stream",
     "text": [
      "There are 833 gym environments. Such as ['Copy-v0', 'RepeatCopy-v0', 'ReversedAddition-v0', 'ReversedAddition3-v0', 'DuplicatedInput-v0', 'Reverse-v0', 'CartPole-v0', 'CartPole-v1', 'MountainCar-v0', 'MountainCarContinuous-v0', 'Pendulum-v0', 'Acrobot-v1']\n"
     ]
    }
   ],
   "source": [
    "all_envs = gym.envs.registry.all()\n",
    "env_ids = [env.id for env in all_envs]\n",
    "\n",
    "print(f'There are {len(env_ids)} gym environments. Such as {env_ids[:12]}')"
   ]
  },
  {
   "cell_type": "markdown",
   "metadata": {},
   "source": [
    "https://gym.openai.com/envs/CartPole-v1/"
   ]
  },
  {
   "cell_type": "markdown",
   "metadata": {},
   "source": [
    "## discrete action space environment"
   ]
  },
  {
   "cell_type": "code",
   "execution_count": 3,
   "metadata": {},
   "outputs": [],
   "source": [
    "env = gym.make('CartPole-v1')"
   ]
  },
  {
   "cell_type": "code",
   "execution_count": 4,
   "metadata": {},
   "outputs": [
    {
     "name": "stdout",
     "output_type": "stream",
     "text": [
      "observation space is: Box(4,)\n",
      "is observation space discrete? False\n",
      "is observation space continuous? True\n",
      "observation space shape: (4,)\n",
      "observation space high values? [4.8000002e+00 3.4028235e+38 4.1887903e-01 3.4028235e+38]\n",
      "observation space low values? [-4.8000002e+00 -3.4028235e+38 -4.1887903e-01 -3.4028235e+38]\n"
     ]
    }
   ],
   "source": [
    "print('observation space is:', env.observation_space)\n",
    "\n",
    "print('is observation space discrete?', isinstance(env.observation_space, gym.spaces.Discrete))\n",
    "print('is observation space continuous?', isinstance(env.observation_space, gym.spaces.Box))\n",
    "\n",
    "print('observation space shape:', env.observation_space.shape)\n",
    "\n",
    "print('observation space high values?', env.observation_space.high)\n",
    "print('observation space low values?', env.observation_space.low)"
   ]
  },
  {
   "cell_type": "code",
   "execution_count": 5,
   "metadata": {},
   "outputs": [
    {
     "name": "stdout",
     "output_type": "stream",
     "text": [
      "action space is: Discrete(2)\n",
      "is action space discrete? True\n",
      "is action space continuous? False\n",
      "action space shape: 2\n"
     ]
    }
   ],
   "source": [
    "print('action space is:', env.action_space)\n",
    "\n",
    "print('is action space discrete?', isinstance(env.action_space, gym.spaces.Discrete))\n",
    "print('is action space continuous?', isinstance(env.action_space, gym.spaces.Box))\n",
    "\n",
    "print('action space shape:', env.action_space.n)"
   ]
  },
  {
   "cell_type": "code",
   "execution_count": 6,
   "metadata": {},
   "outputs": [
    {
     "name": "stdout",
     "output_type": "stream",
     "text": [
      "500\n",
      "475.0\n",
      "100\n",
      "False\n"
     ]
    }
   ],
   "source": [
    "print(env.spec.max_episode_steps)\n",
    "print(env.spec.reward_threshold)\n",
    "print(env.spec.trials) #episode done when reward >= reward_threshold for 100 consecutive trials\n",
    "print(env.spec.nondeterministic)"
   ]
  },
  {
   "cell_type": "markdown",
   "metadata": {},
   "source": [
    "## continuous action space environment"
   ]
  },
  {
   "cell_type": "code",
   "execution_count": 7,
   "metadata": {},
   "outputs": [],
   "source": [
    "env = gym.make('Pendulum-v0')"
   ]
  },
  {
   "cell_type": "code",
   "execution_count": 8,
   "metadata": {},
   "outputs": [
    {
     "name": "stdout",
     "output_type": "stream",
     "text": [
      "observation space is: Box(3,)\n",
      "is observation space discrete? False\n",
      "is observation space continuous? True\n",
      "observation space shape: (3,)\n",
      "observation space high values? [1. 1. 8.]\n",
      "observation space low values? [-1. -1. -8.]\n"
     ]
    }
   ],
   "source": [
    "print('observation space is:', env.observation_space)\n",
    "\n",
    "print('is observation space discrete?', isinstance(env.observation_space, gym.spaces.Discrete))\n",
    "print('is observation space continuous?', isinstance(env.observation_space, gym.spaces.Box))\n",
    "\n",
    "print('observation space shape:', env.observation_space.shape)\n",
    "\n",
    "print('observation space high values?', env.observation_space.high)\n",
    "print('observation space low values?', env.observation_space.low)"
   ]
  },
  {
   "cell_type": "code",
   "execution_count": 9,
   "metadata": {},
   "outputs": [
    {
     "name": "stdout",
     "output_type": "stream",
     "text": [
      "action space is: Box(1,)\n",
      "is action space discrete? False\n",
      "is action space continuous? True\n",
      "action space shape: (1,)\n",
      "action space high values? [2.]\n",
      "action space low values? [-2.]\n"
     ]
    }
   ],
   "source": [
    "print('action space is:', env.action_space)\n",
    "\n",
    "print('is action space discrete?', isinstance(env.action_space, gym.spaces.Discrete))\n",
    "print('is action space continuous?', isinstance(env.action_space, gym.spaces.Box))\n",
    "\n",
    "print('action space shape:', env.action_space.shape)\n",
    "\n",
    "print('action space high values?', env.action_space.high)\n",
    "print('action space low values?', env.action_space.low)"
   ]
  },
  {
   "cell_type": "code",
   "execution_count": 10,
   "metadata": {},
   "outputs": [
    {
     "name": "stdout",
     "output_type": "stream",
     "text": [
      "200\n",
      "None\n",
      "100\n",
      "False\n"
     ]
    }
   ],
   "source": [
    "print(env.spec.max_episode_steps)\n",
    "print(env.spec.reward_threshold)\n",
    "print(env.spec.trials) #trials here, but no reward threshold, means you should report best score averaged over 100 trials (https://github.com/openai/gym/wiki/Leaderboard)\n",
    "print(env.spec.nondeterministic)"
   ]
  },
  {
   "cell_type": "markdown",
   "metadata": {},
   "source": [
    "## atari environments"
   ]
  },
  {
   "cell_type": "code",
   "execution_count": 11,
   "metadata": {},
   "outputs": [],
   "source": [
    "env = gym.make('Freeway-v4')"
   ]
  },
  {
   "cell_type": "code",
   "execution_count": 12,
   "metadata": {},
   "outputs": [
    {
     "name": "stdout",
     "output_type": "stream",
     "text": [
      "observation space is: Box(210, 160, 3)\n",
      "is observation space discrete? False\n",
      "is observation space continuous? True\n",
      "observation space shape: (210, 160, 3)\n"
     ]
    }
   ],
   "source": [
    "print('observation space is:', env.observation_space)\n",
    "print('is observation space discrete?', isinstance(env.observation_space, gym.spaces.Discrete))\n",
    "print('is observation space continuous?', isinstance(env.observation_space, gym.spaces.Box))\n",
    "print('observation space shape:', env.observation_space.shape)"
   ]
  },
  {
   "cell_type": "code",
   "execution_count": 13,
   "metadata": {},
   "outputs": [
    {
     "name": "stdout",
     "output_type": "stream",
     "text": [
      "action space is: Discrete(3)\n",
      "action space shape: 3\n",
      "is action space discrete? True\n",
      "is action space continuous? False\n",
      "action meanings: ['NOOP', 'UP', 'DOWN']\n"
     ]
    }
   ],
   "source": [
    "print('action space is:', env.action_space)\n",
    "print('action space shape:', env.action_space.n)\n",
    "print('is action space discrete?', isinstance(env.action_space, gym.spaces.Discrete))\n",
    "print('is action space continuous?', isinstance(env.action_space, gym.spaces.Box))\n",
    "print('action meanings:', env.unwrapped.get_action_meanings())"
   ]
  },
  {
   "cell_type": "code",
   "execution_count": 14,
   "metadata": {},
   "outputs": [
    {
     "name": "stdout",
     "output_type": "stream",
     "text": [
      "100000\n",
      "None\n",
      "100\n",
      "False\n"
     ]
    }
   ],
   "source": [
    "print(env.spec.max_episode_steps)\n",
    "print(env.spec.reward_threshold)\n",
    "print(env.spec.trials) #trials here, but no reward threshold, means you should report best score averaged over 100 trials (https://github.com/openai/gym/wiki/Leaderboard)\n",
    "print(env.spec.nondeterministic)"
   ]
  },
  {
   "cell_type": "markdown",
   "metadata": {},
   "source": [
    "- Pong-v0 => 10k steps, randomly skips 2-4 frames, repeat action probability of 25%\n",
    "- Pong-v4 => 100k steps, randomly skips 2-4 frames\n",
    "- PongDeterministic-v0 => 100k steps, always skips 4 frames, repeat action probability of 25%\n",
    "- PongDeterministic-v4 => 100k steps, always skips 4 frames\n",
    "- PongNoFrameskip-v0 => 100k steps, returns every frame, repeat action probability of 25%\n",
    "- PongNoFrameskip-v4 => 100k steps, returns every frame\n",
    "\n",
    "information about environments: https://github.com/openai/gym/blob/master/gym/envs/__init__.py#L604\n",
    "spaceinvadersdeterministic always skips 3 frames instead of 4: https://github.com/openai/gym/blob/master/gym/envs/__init__.py#L620\n",
    "default frameskip when one not provided: https://github.com/openai/gym/blob/master/gym/envs/atari/atari_env.py#L30\n",
    "when skipping frames, you repeat the last action: https://github.com/openai/gym/blob/master/gym/envs/atari/atari_env.py#L94"
   ]
  },
  {
   "cell_type": "markdown",
   "metadata": {},
   "source": [
    "## wrappers\n",
    "\n",
    "not exclusive to atari, but most commonly used for atari\n",
    "\n",
    "commonly used atari wrappers: https://github.com/openai/baselines/blob/master/baselines/common/atari_wrappers.py"
   ]
  },
  {
   "cell_type": "code",
   "execution_count": 15,
   "metadata": {},
   "outputs": [],
   "source": [
    "class ClipRewardEnv(gym.RewardWrapper):\n",
    "    def __init__(self, env):\n",
    "        gym.RewardWrapper.__init__(self, env)\n",
    "\n",
    "    def reward(self, reward):\n",
    "        \"\"\"Bin reward to {+1, 0, -1} by its sign.\"\"\"\n",
    "        return np.sign(reward)\n",
    "    \n",
    "class ScaledFloatFrame(gym.ObservationWrapper):\n",
    "    def __init__(self, env):\n",
    "        gym.ObservationWrapper.__init__(self, env)\n",
    "        self.observation_space = gym.spaces.Box(low=0, high=1, shape=env.observation_space.shape, dtype=np.float32)\n",
    "\n",
    "    def observation(self, observation):\n",
    "        return np.array(observation).astype(np.float32) / 255.0"
   ]
  },
  {
   "cell_type": "code",
   "execution_count": 16,
   "metadata": {},
   "outputs": [],
   "source": [
    "env = gym.make('Pong-v0')\n",
    "\n",
    "env = ClipRewardEnv(env)\n",
    "\n",
    "env = ScaledFloatFrame(env)"
   ]
  },
  {
   "cell_type": "markdown",
   "metadata": {},
   "source": [
    "## interacting with an environment"
   ]
  },
  {
   "cell_type": "code",
   "execution_count": 17,
   "metadata": {},
   "outputs": [
    {
     "name": "stdout",
     "output_type": "stream",
     "text": [
      "state type: <class 'numpy.ndarray'>\n",
      "state shape: (4,)\n",
      "state: [-0.01315549 -0.04012824  0.04801855 -0.0044493 ]\n"
     ]
    }
   ],
   "source": [
    "env = gym.make('CartPole-v1')\n",
    "\n",
    "env.seed(1234)\n",
    "\n",
    "state = env.reset()\n",
    "\n",
    "print('state type:', type(state))\n",
    "print('state shape:', state.shape)\n",
    "print('state:', state)"
   ]
  },
  {
   "cell_type": "markdown",
   "metadata": {},
   "source": [
    "https://github.com/openai/gym/blob/master/gym/envs/classic_control/cartpole.py#L21\n",
    "\n",
    "cart pos, cart velocity, pole angle, pole velocity"
   ]
  },
  {
   "cell_type": "code",
   "execution_count": 18,
   "metadata": {},
   "outputs": [
    {
     "name": "stdout",
     "output_type": "stream",
     "text": [
      "selected action: 0\n"
     ]
    }
   ],
   "source": [
    "action = env.action_space.sample() #select random action, uniformly between high and low for continuous\n",
    "\n",
    "print('selected action:', action)"
   ]
  },
  {
   "cell_type": "markdown",
   "metadata": {},
   "source": [
    "https://github.com/openai/gym/blob/master/gym/envs/classic_control/cartpole.py#L29\n",
    "\n",
    "0 = left, 1 = right"
   ]
  },
  {
   "cell_type": "code",
   "execution_count": 19,
   "metadata": {},
   "outputs": [
    {
     "name": "stdout",
     "output_type": "stream",
     "text": [
      "state: [-0.01395805 -0.23590479  0.04792957  0.30298905]\n",
      "reward: 1.0\n",
      "done: False\n",
      "info: {}\n"
     ]
    }
   ],
   "source": [
    "state, reward, done, info = env.step(action) #perform action on environment\n",
    "\n",
    "print('state:', state)\n",
    "print('reward:', reward)\n",
    "print('done:', done)\n",
    "print('info:', info)"
   ]
  },
  {
   "cell_type": "markdown",
   "metadata": {},
   "source": [
    "## interacting with the atari environment"
   ]
  },
  {
   "cell_type": "code",
   "execution_count": 36,
   "metadata": {},
   "outputs": [
    {
     "name": "stdout",
     "output_type": "stream",
     "text": [
      "state type: <class 'numpy.ndarray'>\n",
      "state shape: (210, 160, 3)\n"
     ]
    }
   ],
   "source": [
    "env = gym.make('FreewayNoFrameskip-v4')\n",
    "\n",
    "env.seed(1234)\n",
    "\n",
    "state = env.reset()\n",
    "\n",
    "print('state type:', type(state))\n",
    "print('state shape:', state.shape)"
   ]
  },
  {
   "cell_type": "code",
   "execution_count": 37,
   "metadata": {},
   "outputs": [
    {
     "data": {
      "image/png": "[encoded data removed]",
      "text/plain": [
       "<Figure size 432x288 with 1 Axes>"
      ]
     },
     "metadata": {
      "needs_background": "light"
     },
     "output_type": "display_data"
    }
   ],
   "source": [
    "plt.imshow(state);"
   ]
  },
  {
   "cell_type": "code",
   "execution_count": 38,
   "metadata": {},
   "outputs": [
    {
     "name": "stdout",
     "output_type": "stream",
     "text": [
      "selected action: 0\n",
      "action meaning: NOOP\n"
     ]
    }
   ],
   "source": [
    "action = env.action_space.sample() #select random action, uniformly between high and low for continuous\n",
    "\n",
    "print('selected action:', action)\n",
    "print('action meaning:', env.unwrapped.get_action_meanings()[action])"
   ]
  },
  {
   "cell_type": "code",
   "execution_count": 39,
   "metadata": {},
   "outputs": [
    {
     "name": "stdout",
     "output_type": "stream",
     "text": [
      "reward: 0.0\n",
      "done: False\n",
      "info: {'ale.lives': 0}\n"
     ]
    }
   ],
   "source": [
    "state, reward, done, info = env.step(action) #perform action on environment\n",
    "\n",
    "print('reward:', reward)\n",
    "print('done:', done)\n",
    "print('info:', info)"
   ]
  },
  {
   "cell_type": "code",
   "execution_count": 40,
   "metadata": {},
   "outputs": [
    {
     "data": {
      "image/png": "[encoded data removed]",
      "text/plain": [
       "<Figure size 432x288 with 1 Axes>"
      ]
     },
     "metadata": {
      "needs_background": "light"
     },
     "output_type": "display_data"
    }
   ],
   "source": [
    "plt.imshow(state);"
   ]
  },
  {
   "cell_type": "code",
   "execution_count": 41,
   "metadata": {},
   "outputs": [
    {
     "data": {
      "image/png": "[encoded data removed]",
      "text/plain": [
       "<Figure size 432x288 with 1 Axes>"
      ]
     },
     "metadata": {
      "needs_background": "light"
     },
     "output_type": "display_data"
    }
   ],
   "source": [
    "up_action = env.unwrapped.get_action_meanings().index('UP')\n",
    "\n",
    "for i in range(50):\n",
    "    state, reward, done, info = env.step(up_action) #presses up 10 times\n",
    "\n",
    "plt.imshow(state);"
   ]
  },
  {
   "cell_type": "markdown",
   "metadata": {},
   "source": [
    "## reinforcement learning loop"
   ]
  },
  {
   "cell_type": "code",
   "execution_count": 26,
   "metadata": {},
   "outputs": [
    {
     "name": "stdout",
     "output_type": "stream",
     "text": [
      "episode: 1, reward: 50.0\n",
      "episode: 2, reward: 110.0\n",
      "episode: 3, reward: 110.0\n",
      "episode: 4, reward: 90.0\n",
      "episode: 5, reward: 210.0\n",
      "episode: 6, reward: 135.0\n",
      "episode: 7, reward: 210.0\n",
      "episode: 8, reward: 160.0\n",
      "episode: 9, reward: 440.0\n",
      "episode: 10, reward: 120.0\n"
     ]
    }
   ],
   "source": [
    "env = gym.make('SpaceInvadersNoFrameskip-v4')\n",
    "\n",
    "env.seed(1234)\n",
    "\n",
    "n_episodes = 10\n",
    "\n",
    "for episode in range(n_episodes):\n",
    "    \n",
    "    episode_reward = 0\n",
    "    done = False\n",
    "    state = env.reset()\n",
    "    \n",
    "    while not done:\n",
    "        \n",
    "        action = env.action_space.sample()\n",
    "        \n",
    "        state, reward, done, _ = env.step(action)\n",
    "        \n",
    "        episode_reward += reward\n",
    "        \n",
    "    print(f'episode: {episode+1}, reward: {episode_reward}')"
   ]
  }
 ],
 "metadata": {
  "kernelspec": {
   "display_name": "Python 3",
   "language": "python",
   "name": "python3"
  },
  "language_info": {
   "codemirror_mode": {
    "name": "ipython",
    "version": 3
   },
   "file_extension": ".py",
   "mimetype": "text/x-python",
   "name": "python",
   "nbconvert_exporter": "python",
   "pygments_lexer": "ipython3",
   "version": "3.7.1"
  }
 },
 "nbformat": 4,
 "nbformat_minor": 2
}
